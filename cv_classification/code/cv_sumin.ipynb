{
 "cells": [
  {
   "cell_type": "markdown",
   "id": "f86c8ae5-f574-4c6d-82dd-457786bbd8ee",
   "metadata": {},
   "source": [
    "# Document Type Classification 2조\n",
    "\n",
    "### Contents\n",
    "- Import Library & Loading Data\n",
    "- EDA\n",
    "- Data Preprocessing\n",
    "- Define Functions\n",
    "- Modeling\n",
    "- Train Model\n",
    "- Result\n",
    "- Save File"
   ]
  },
  {
   "cell_type": "markdown",
   "id": "7967c689-dae6-4e7c-a8da-926cea14cacd",
   "metadata": {},
   "source": [
    "## 1. Import Library"
   ]
  },
  {
   "cell_type": "code",
   "execution_count": 3,
   "id": "507ae8cd-7ded-46e9-ba48-2ffc38f24f18",
   "metadata": {},
   "outputs": [],
   "source": [
    "import os\n",
    "import time\n",
    "import random\n",
    "import timm\n",
    "import torch\n",
    "import albumentations as A\n",
    "import pandas as pd\n",
    "import numpy as np\n",
    "import matplotlib.pyplot as plt\n",
    "import torch.nn as nn\n",
    "import albumentations as A\n",
    "import cv2\n",
    "from albumentations.pytorch import ToTensorV2\n",
    "from torch.optim import Adam, AdamW\n",
    "from torchvision import transforms\n",
    "from torch.utils.data import Dataset, DataLoader\n",
    "from PIL import Image\n",
    "from tqdm import tqdm\n",
    "from sklearn.metrics import accuracy_score, f1_score\n",
    "from sklearn.model_selection import train_test_split\n",
    "import augraphy\n",
    "from sklearn.model_selection import KFold\n",
    "from glob import glob\n",
    "from matplotlib.gridspec import GridSpec\n",
    "from timm import create_model\n",
    "#import wandb"
   ]
  },
  {
   "cell_type": "code",
   "execution_count": 80,
   "id": "ccdda146-d6f2-4d8a-8946-4138fe345f1c",
   "metadata": {
    "scrolled": true
   },
   "outputs": [
    {
     "name": "stdout",
     "output_type": "stream",
     "text": [
      "Collecting wandb\n",
      "  Downloading wandb-0.18.6-py3-none-macosx_11_0_arm64.whl.metadata (9.7 kB)\n",
      "Requirement already satisfied: click!=8.0.0,>=7.1 in /opt/anaconda3/lib/python3.12/site-packages (from wandb) (8.1.7)\n",
      "Collecting docker-pycreds>=0.4.0 (from wandb)\n",
      "  Downloading docker_pycreds-0.4.0-py2.py3-none-any.whl.metadata (1.8 kB)\n",
      "Requirement already satisfied: gitpython!=3.1.29,>=1.0.0 in /opt/anaconda3/lib/python3.12/site-packages (from wandb) (3.1.43)\n",
      "Requirement already satisfied: platformdirs in /opt/anaconda3/lib/python3.12/site-packages (from wandb) (3.10.0)\n",
      "Requirement already satisfied: protobuf!=4.21.0,!=5.28.0,<6,>=3.19.0 in /opt/anaconda3/lib/python3.12/site-packages (from wandb) (4.25.3)\n",
      "Requirement already satisfied: psutil>=5.0.0 in /opt/anaconda3/lib/python3.12/site-packages (from wandb) (5.9.0)\n",
      "Requirement already satisfied: pyyaml in /opt/anaconda3/lib/python3.12/site-packages (from wandb) (6.0.1)\n",
      "Requirement already satisfied: requests<3,>=2.0.0 in /opt/anaconda3/lib/python3.12/site-packages (from wandb) (2.32.3)\n",
      "Collecting sentry-sdk>=2.0.0 (from wandb)\n",
      "  Downloading sentry_sdk-2.18.0-py2.py3-none-any.whl.metadata (9.9 kB)\n",
      "Collecting setproctitle (from wandb)\n",
      "  Downloading setproctitle-1.3.3-cp312-cp312-macosx_10_9_universal2.whl.metadata (9.9 kB)\n",
      "Requirement already satisfied: setuptools in /opt/anaconda3/lib/python3.12/site-packages (from wandb) (75.1.0)\n",
      "Requirement already satisfied: six>=1.4.0 in /opt/anaconda3/lib/python3.12/site-packages (from docker-pycreds>=0.4.0->wandb) (1.16.0)\n",
      "Requirement already satisfied: gitdb<5,>=4.0.1 in /opt/anaconda3/lib/python3.12/site-packages (from gitpython!=3.1.29,>=1.0.0->wandb) (4.0.7)\n",
      "Requirement already satisfied: charset-normalizer<4,>=2 in /opt/anaconda3/lib/python3.12/site-packages (from requests<3,>=2.0.0->wandb) (3.3.2)\n",
      "Requirement already satisfied: idna<4,>=2.5 in /opt/anaconda3/lib/python3.12/site-packages (from requests<3,>=2.0.0->wandb) (3.7)\n",
      "Requirement already satisfied: urllib3<3,>=1.21.1 in /opt/anaconda3/lib/python3.12/site-packages (from requests<3,>=2.0.0->wandb) (2.2.3)\n",
      "Requirement already satisfied: certifi>=2017.4.17 in /opt/anaconda3/lib/python3.12/site-packages (from requests<3,>=2.0.0->wandb) (2024.8.30)\n",
      "Requirement already satisfied: smmap<5,>=3.0.1 in /opt/anaconda3/lib/python3.12/site-packages (from gitdb<5,>=4.0.1->gitpython!=3.1.29,>=1.0.0->wandb) (4.0.0)\n",
      "Downloading wandb-0.18.6-py3-none-macosx_11_0_arm64.whl (15.2 MB)\n",
      "\u001b[2K   \u001b[90m━━━━━━━━━━━━━━━━━━━━━━━━━━━━━━━━━━━━━━━━\u001b[0m \u001b[32m15.2/15.2 MB\u001b[0m \u001b[31m1.2 MB/s\u001b[0m eta \u001b[36m0:00:00\u001b[0m00:01\u001b[0m00:01\u001b[0mm\n",
      "\u001b[?25hDownloading docker_pycreds-0.4.0-py2.py3-none-any.whl (9.0 kB)\n",
      "Downloading sentry_sdk-2.18.0-py2.py3-none-any.whl (317 kB)\n",
      "Downloading setproctitle-1.3.3-cp312-cp312-macosx_10_9_universal2.whl (16 kB)\n",
      "Installing collected packages: setproctitle, sentry-sdk, docker-pycreds, wandb\n",
      "Successfully installed docker-pycreds-0.4.0 sentry-sdk-2.18.0 setproctitle-1.3.3 wandb-0.18.6\n"
     ]
    }
   ],
   "source": [
    "import sys\n",
    "!{sys.executable} -m pip install wandb"
   ]
  },
  {
   "cell_type": "code",
   "execution_count": 4,
   "id": "682d49b7-463d-41fc-98ea-d1f16381ceda",
   "metadata": {},
   "outputs": [],
   "source": [
    "# 랜덤하게 seed 설정\n",
    "SEED = 42\n",
    "os.environ['PYTHONHASHSEED'] = str(SEED)\n",
    "random.seed(SEED)\n",
    "np.random.seed(SEED)\n",
    "torch.manual_seed(SEED)\n",
    "torch.cuda.manual_seed(SEED)\n",
    "torch.cuda.manual_seed_all(SEED)\n",
    "torch.backends.cudnn.benchmark = True"
   ]
  },
  {
   "cell_type": "raw",
   "id": "c5b4625f-68fa-4649-9962-bc60ad19647f",
   "metadata": {},
   "source": [
    "class ImageDataset(Dataset):\n",
    "    def __init__(self, data, path, transform=None):\n",
    "        # data가 파일 경로(str)인지 DataFrame인지 확인\n",
    "        if isinstance(data, str):  # CSV 파일 경로일 경우\n",
    "            self.df = pd.read_csv(data)  # DataFrame으로 유지\n",
    "        else:  # DataFrame이 직접 전달된 경우\n",
    "            self.df = data  # DataFrame 그대로 유지\n",
    "        self.path = path\n",
    "        self.transform = transform\n",
    "\n",
    "    def __len__(self):\n",
    "        return len(self.df)\n",
    "\n",
    "    def __getitem__(self, idx):\n",
    "        row = self.df.iloc[idx]\n",
    "        name = row['ID']\n",
    "        target = row['class_name']\n",
    "        image_path = os.path.join(self.path, name)\n",
    "        \n",
    "        # 이미지 로드\n",
    "        img = np.array(Image.open(image_path).convert(\"RGB\"))\n",
    "\n",
    "        # transform 적용\n",
    "        if self.transform:\n",
    "            img = self.transform(image=img)['image']\n",
    "        return img, target"
   ]
  },
  {
   "cell_type": "raw",
   "id": "f0c077bd-4d89-4429-9e87-588b557a6a7e",
   "metadata": {},
   "source": [
    "trn_dataset = ImageDataset(\n",
    "    \"/Users/choesumin/Documents/upstage/data/train.csv\",\n",
    "    \"/Users/choesumin/Documents/upstage/data/train\"\n",
    ")\n",
    "\n",
    "tst_dataset = ImageDataset(\n",
    "    \"/Users/choesumin/Documents/upstage/data/submission.csv\",\n",
    "    \"/Users/choesumin/Documents/upstage/data/test\"\n",
    ")\n",
    "\n",
    "print(len(trn_dataset), len(tst_dataset))"
   ]
  },
  {
   "cell_type": "code",
   "execution_count": 5,
   "id": "2f3015aa-9f4c-45f9-bbd9-ae9b0f6c2b32",
   "metadata": {},
   "outputs": [],
   "source": [
    "#load data\n",
    "train_df = pd.read_csv(\"/Users/choesumin/Documents/upstage/data/train.csv\")\n",
    "meta_df = pd.read_csv(\"/Users/choesumin/Documents/upstage/data/meta.csv\")\n",
    "image_dir = \"/Users/choesumin/Documents/upstage/data/train\""
   ]
  },
  {
   "cell_type": "code",
   "execution_count": 7,
   "id": "574f10e8-8017-4aa5-880e-7fcbf8ff5754",
   "metadata": {},
   "outputs": [],
   "source": [
    "#클래스별 이미 파일명과 클래스명 매핑\n",
    "train_df = train_df.merge(meta_df, on='target')\n",
    "class_names = train_df['class_name'].unique()"
   ]
  },
  {
   "cell_type": "code",
   "execution_count": 7,
   "id": "6a83bd4f-74ad-4c7b-9d04-78c1e4d4ce99",
   "metadata": {},
   "outputs": [],
   "source": [
    "train_df, val_df = train_test_split(train_df, test_size=0.2, random_state=SEED, stratify=train_df[\"class_name\"])"
   ]
  },
  {
   "cell_type": "code",
   "execution_count": null,
   "id": "7f9b2a24-b476-4ae3-b1c2-11ad577bc77d",
   "metadata": {},
   "outputs": [],
   "source": []
  },
  {
   "cell_type": "code",
   "execution_count": 54,
   "id": "29a1154f-e423-4985-b5c0-81a6f15ea0f0",
   "metadata": {},
   "outputs": [],
   "source": [
    "def create_label_to_index(labels):\n",
    "    unique_labels = set(labels)\n",
    "    return {label: idx for idx, label in enumerate(unique_labels)}"
   ]
  },
  {
   "cell_type": "code",
   "execution_count": null,
   "id": "54ffeac6-0967-4aa2-9069-e4c4b8292862",
   "metadata": {},
   "outputs": [],
   "source": []
  },
  {
   "cell_type": "markdown",
   "id": "98005d30-f338-4efe-bb77-7fac8807161c",
   "metadata": {},
   "source": [
    "## 2. EDA"
   ]
  },
  {
   "cell_type": "raw",
   "id": "133f6220-0c63-4cbb-a734-cecd8f832a69",
   "metadata": {},
   "source": [
    "# 클래스별 이미지 확인 [트레이닝 데이터]\n",
    "def display_images(images, title):\n",
    "    plt.figure(figsize=(50, 200))  # 전체 그림 크기 조정 (figsize를 더 크게)\n",
    "    grid = GridSpec(20, 5, wspace=0.1, hspace=0.01)  # 2행 5열의 그리드\n",
    "    \n",
    "    for i, img_path in enumerate(images[:100]):  # 최대 100개 이미지로 제한\n",
    "        img = cv2.imread(img_path)\n",
    "        img = cv2.resize(img, (300, 300))  # 이미지 크기 조정\n",
    "        ax = plt.subplot(grid[i])  # GridSpec을 이용해 서브플롯 설정\n",
    "        ax.imshow(cv2.cvtColor(img, cv2.COLOR_BGR2RGB))\n",
    "        ax.axis('off')\n",
    "    \n",
    "    plt.suptitle(title)\n",
    "    plt.show()\n",
    "\n",
    "# 각 클래스별로 10개씩 이미지 출력 (이미지가 매우 크므로 10개로 제한)\n",
    "for class_name in class_names:\n",
    "    class_images = train_df[train_df['class_name'] == class_name]['ID'].values\n",
    "    class_image_paths = [os.path.join(image_dir, img) for img in class_images]\n",
    "    display_images(class_image_paths[:100], f'Class: {class_name}')"
   ]
  },
  {
   "cell_type": "code",
   "execution_count": null,
   "id": "62914735-7197-4643-92bc-0c31b61dbcea",
   "metadata": {},
   "outputs": [],
   "source": []
  },
  {
   "cell_type": "markdown",
   "id": "a1d23adf-0194-4c40-ad43-da346b5b0384",
   "metadata": {},
   "source": [
    "#### <span style=\"color:slateblue\">problem 1 </span>: 클래스별 데이터 불균형 \n",
    "에폭 수를 늘리면 늘릴수록 차이는 점점 더 벌어 점차 적은 클래스를 무시하는 방향으로 학습됨(점차 가중치 줄어들기 때문)"
   ]
  },
  {
   "cell_type": "code",
   "execution_count": 21,
   "id": "ff63fb4a-277b-41a7-ac4a-44bdb833ffb9",
   "metadata": {},
   "outputs": [],
   "source": [
    "#데이터 균형 확인 함수\n",
    "def show_data_balance(df, label_column='class_name'):\n",
    "    class_distribution = df[label_column].value_counts()\n",
    "    print(class_distribution)\n",
    "    plt.figure(figsize=(10, 6))\n",
    "    class_distribution.plot(kind='bar')\n",
    "    plt.title('Class Distribution')\n",
    "    plt.xlabel('Class')\n",
    "    plt.ylabel('Number of Images')\n",
    "    plt.show()"
   ]
  },
  {
   "cell_type": "code",
   "execution_count": 25,
   "id": "c52e37cf-629d-4ff0-8237-3426c4697e81",
   "metadata": {},
   "outputs": [
    {
     "name": "stdout",
     "output_type": "stream",
     "text": [
      "class_name\n",
      "vehicle_registration_plate                               100\n",
      "pharmaceutical_receipt                                   100\n",
      "application_for_payment_of_pregnancy_medical_expenses    100\n",
      "account_number                                           100\n",
      "confirmation_of_admission_and_discharge                  100\n",
      "prescription                                             100\n",
      "national_id_card                                         100\n",
      "car_dashboard                                            100\n",
      "medical_outpatient_certificate                           100\n",
      "payment_confirmation                                     100\n",
      "resume                                                   100\n",
      "passport                                                 100\n",
      "statement_of_opinion                                     100\n",
      "vehicle_registration_certificate                         100\n",
      "driver_lisence                                           100\n",
      "diagnosis                                                100\n",
      "medical_bill_receipts                                    100\n",
      "Name: count, dtype: int64\n"
     ]
    },
    {
     "data": {
      "image/png": "[encoded data removed]",
      "text/plain": [
       "<Figure size 1000x600 with 1 Axes>"
      ]
     },
     "metadata": {},
     "output_type": "display_data"
    }
   ],
   "source": [
    "show_data_balance(train_df)"
   ]
  },
  {
   "cell_type": "code",
   "execution_count": null,
   "id": "1711b478-713e-4c37-aeaf-256b51d8c278",
   "metadata": {},
   "outputs": [],
   "source": []
  },
  {
   "cell_type": "markdown",
   "id": "0e8799d6-9ae7-4f56-9b55-6a6a98ea5f0b",
   "metadata": {},
   "source": [
    "## 3. Data PreProcessing"
   ]
  },
  {
   "cell_type": "markdown",
   "id": "632e6d31-1ded-4290-bae2-d3d2f0b4f66c",
   "metadata": {},
   "source": [
    "#### 데이터프레임에 존재하지 않는 이미지 파일 행 제거"
   ]
  },
  {
   "cell_type": "code",
   "execution_count": 14,
   "id": "4d05ff61-c6ea-4708-921e-ad151454c92f",
   "metadata": {},
   "outputs": [],
   "source": [
    "# Missing images 제거 함수\n",
    "def remove_missing_images(df, image_dir):\n",
    "    available_data = []\n",
    "    missing_files = []\n",
    "\n",
    "    for _, row in df.iterrows():\n",
    "        img_id = row['ID']\n",
    "        img_path = os.path.join(image_dir, img_id)\n",
    "        if os.path.exists(img_path):\n",
    "            available_data.append(row)\n",
    "        else:\n",
    "            missing_files.append(img_id)\n",
    "\n",
    "    # 누락된 파일 로그 출력\n",
    "    if missing_files:\n",
    "        print(f\"Warning: {len(missing_files)} images not found and will be removed from the dataset.\")\n",
    "        print(f\"Missing files: {missing_files}\")\n",
    "\n",
    "    # 누락된 파일을 제외한 DataFrame 반환\n",
    "    return pd.DataFrame(available_data)"
   ]
  },
  {
   "cell_type": "code",
   "execution_count": 15,
   "id": "3f4db1c1-2a72-4bc7-8c7e-eccd0218455e",
   "metadata": {},
   "outputs": [],
   "source": [
    "train_df = remove_missing_images(train_df, image_dir)\n",
    "val_df = remove_missing_images(val_df, image_dir)"
   ]
  },
  {
   "cell_type": "code",
   "execution_count": null,
   "id": "8d216093-373d-4dc3-b918-c7aaf215bc55",
   "metadata": {},
   "outputs": [],
   "source": []
  },
  {
   "cell_type": "markdown",
   "id": "37aab696-9fd8-424c-bfe8-a86e8b16570c",
   "metadata": {},
   "source": [
    "#### <span style=\"color:slateblue\">solution 1 </span> [트레이닝 데이터셋 클래스별 데이터 불균형 해소] : oversampling - 수치형 데이터에 적합 \n"
   ]
  },
  {
   "cell_type": "raw",
   "id": "05f77622-17a6-4c47-8a97-96d7bf432966",
   "metadata": {},
   "source": [
    "target_samples_num = {\n",
    "    'resume' : 100,\n",
    "    'statement_of_opinion' : 100,\n",
    "    'application_for_payment_of_pregnancy_medical_expenses': 100\n",
    "}\n",
    "\n",
    "#sampling strategy : 기존 샘플 수보다 클 때만 증강\n",
    "sampling_strategy = {}\n",
    "for class_name, count in target_samples_num.items():\n",
    "    if class_distribution[class_name] < count :\n",
    "        sampling_strategy[class_name] = count\n",
    "\n",
    "#문자열 열 제외 -  SMOTE는 수치형 데이터에 적합하기 때문\n",
    "\n",
    "X = train_df.drop(columns=['class_name', 'ID'])\n",
    "y = train_df['class_name']\n",
    "\n",
    "#클래스별 분포 \n",
    "class_distribution = train_df['class_name'].value_counts()\n",
    "\n",
    "#SMOTE로 증강\n",
    "smote = SMOTE(sampling_strategy = sampling_strategy, random_state=42)\n",
    "X_resampled, y_resampled = smote.fit_resample(X, y)\n",
    "\n",
    "#오버샘플링된 데이터와 결합하여 데이터셋 생성\n",
    "train_df = pd.concat([X_resampled, y_resampled], axis=1)\n",
    "print(train_df['class_name'].value_counts())"
   ]
  },
  {
   "cell_type": "code",
   "execution_count": null,
   "id": "193f221c-dfa8-4ec4-942e-5d28c809ec96",
   "metadata": {},
   "outputs": [],
   "source": []
  },
  {
   "cell_type": "markdown",
   "id": "a09330df-6d07-4dc2-bb3f-3437ebfd4c27",
   "metadata": {},
   "source": [
    "#### <span style=\"color:slateblue\">solution 1 </span> [트레이닝 데이터셋 클래스별 데이터 불균형 해소] : Albumentations\n"
   ]
  },
  {
   "cell_type": "code",
   "execution_count": 18,
   "id": "49908cd9-ec40-4933-ab22-edb79925d6d6",
   "metadata": {},
   "outputs": [],
   "source": [
    "#증강 파이프라인 설정\n",
    "augmentation_pipeline = A.Compose([\n",
    "    A.Resize(128, 128),  # 크기 조정 추가\n",
    "    A.RandomRotate90(p=0.5),\n",
    "    A.Flip(p=0.5),\n",
    "    A.Transpose(p=0.5),\n",
    "    A.ShiftScaleRotate(shift_limit=0.1, scale_limit=0.1, rotate_limit=45, p=0.5),\n",
    "    A.ColorJitter(brightness=0.2, contrast=0.2, saturation=0.2, hue=0.2, p=0.5),\n",
    "    A.RandomBrightnessContrast(brightness_limit=0.2, contrast_limit=0.2, p=0.5),\n",
    "    A.Blur(blur_limit=3, p=0.1),\n",
    "    ToTensorV2()\n",
    "])\n",
    "\n",
    "# 기본 변환 설정 (검증 또는 테스트 데이터에 사용)\n",
    "basic_transform = A.Compose([\n",
    "    A.Resize(128, 128),\n",
    "    ToTensorV2()\n",
    "])"
   ]
  },
  {
   "cell_type": "code",
   "execution_count": null,
   "id": "754633c8-f730-473d-8781-e64677358462",
   "metadata": {
    "scrolled": true
   },
   "outputs": [],
   "source": []
  },
  {
   "cell_type": "code",
   "execution_count": 17,
   "id": "e139c42c-0228-4ae3-bb3c-1f15795039e9",
   "metadata": {},
   "outputs": [],
   "source": [
    "#Augmentation - Albumentation\n",
    "def get_albumentations_pipeline():\n",
    "    return A.Compose([\n",
    "        A.Resize(128, 128),\n",
    "        A.OneOf([\n",
    "            A.Transpose(p=0.3),\n",
    "            A.HorizontalFlip(p=0.3),\n",
    "            A.VerticalFlip(p=0.3)\n",
    "        ], p=0.5),\n",
    "        A.OneOf([\n",
    "            A.Blur(blur_limit=3, p=0.3),\n",
    "            A.GaussNoise(var_limit=(10.0, 50.0), p=0.3),\n",
    "            A.ISONoise(color_shift=(0.01, 0.05), intensity=(0.1, 0.5), p=0.3)\n",
    "        ], p=0.5),\n",
    "        A.ShiftScaleRotate(shift_limit=0.1, scale_limit=0.1, rotate_limit=15, p=0.5),\n",
    "        ToTensorV2()\n",
    "    ])"
   ]
  },
  {
   "cell_type": "code",
   "execution_count": 20,
   "id": "aa44bec9-9279-4e02-87a5-b1adece5102b",
   "metadata": {},
   "outputs": [],
   "source": [
    "# Augraphy\n",
    "def get_augraphy_augmentations():\n",
    "    return aug.Compose([\n",
    "        aug.OneOf([\n",
    "            aug.InkBleed(intensity_range=(0.1, 0.3), p=0.5)\n",
    "        ], p=0.5),\n",
    "        aug.OneOf([\n",
    "            aug.LightingGradient(lightness_range=(0.5, 1.0), p=0.5),\n",
    "            aug.LowLightNoise(p=0.3)\n",
    "        ], p=0.5),\n",
    "        aug.OneOf([\n",
    "            aug.ReflectedLight(p=0.4),\n",
    "            aug.ShadowCast(shadow_intensity_range=(0.3, 0.6), p=0.4)\n",
    "        ], p=0.5)\n",
    "    ])"
   ]
  },
  {
   "cell_type": "code",
   "execution_count": 21,
   "id": "01d2136d-63ef-4937-844d-68f8a0b951ac",
   "metadata": {},
   "outputs": [],
   "source": [
    "# mixup 함수 - 크기와 채널을 일관되게 처리\n",
    "def mixup(image1, image2, alpha=0.4):\n",
    "    # 이미지가 numpy 배열인지 확인하고 변환\n",
    "    if not isinstance(image1, np.ndarray):\n",
    "        image1 = np.array(image1)\n",
    "    if not isinstance(image2, np.ndarray):\n",
    "        image2 = np.array(image2)\n",
    "        \n",
    "    # 두 이미지 크기를 일치시킴\n",
    "    if image1.shape[:2] != image2.shape[:2]:\n",
    "        image2 = cv2.resize(image2, (image1.shape[1], image1.shape[0]))\n",
    "\n",
    "    # 두 이미지를 강제로 3채널로 변환하여 일관성 유지\n",
    "    if len(image1.shape) == 2:\n",
    "        image1 = cv2.cvtColor(image1, cv2.COLOR_GRAY2BGR)\n",
    "    if len(image2.shape) == 2:\n",
    "        image2 = cv2.cvtColor(image2, cv2.COLOR_GRAY2BGR)\n",
    "    \n",
    "    return cv2.addWeighted(image1, alpha, image2, 1 - alpha, 0)"
   ]
  },
  {
   "cell_type": "code",
   "execution_count": null,
   "id": "ad33b05e-9699-4913-8904-d85b3a15750c",
   "metadata": {},
   "outputs": [],
   "source": []
  },
  {
   "cell_type": "code",
   "execution_count": 13,
   "id": "656befd3-f193-4a6f-801d-d540ef15589b",
   "metadata": {},
   "outputs": [],
   "source": [
    "# balance_classes 함수 - 증강 이미지를 저장하고 데이터프레임에 추가\n",
    "def balance_classes(df, image_dir, target_count=100):\n",
    "    balanced_data = []\n",
    "    augmentation_pipeline = get_albumentations_pipeline()\n",
    "    \n",
    "    if not os.path.exists(image_dir):\n",
    "        os.makedirs(image_dir)\n",
    "    \n",
    "    for cls in df['class_name'].unique():\n",
    "        class_data = df[df['class_name'] == cls]\n",
    "        n_samples = max(target_count, len(class_data))\n",
    "        \n",
    "        for _ in range(n_samples - len(class_data)):\n",
    "            sample = class_data.sample(1, replace=True).iloc[0]\n",
    "            image_path = os.path.join(image_dir, sample['ID'])\n",
    "            \n",
    "            if os.path.exists(image_path):\n",
    "                # Load and augment the original image\n",
    "                image = np.array(Image.open(image_path))\n",
    "                augmented_image = augmentation_pipeline(image=image)['image'].permute(1, 2, 0).numpy()\n",
    "                \n",
    "                # Save augmented image with a unique name\n",
    "                aug_img_name = f\"aug_{np.random.randint(100000)}.jpg\"\n",
    "                aug_img_path = os.path.join(image_dir, aug_img_name)\n",
    "                \n",
    "                Image.fromarray(augmented_image.astype(np.uint8)).save(aug_img_path)\n",
    "                \n",
    "                # Add the augmented image to the DataFrame\n",
    "                new_sample = sample.to_dict()\n",
    "                new_sample['ID'] = aug_img_name\n",
    "                balanced_data.append(new_sample)\n",
    "\n",
    "        balanced_data.extend(class_data.to_dict('records'))\n",
    "    \n",
    "    balanced_df = pd.DataFrame(balanced_data)\n",
    "    return balanced_df"
   ]
  },
  {
   "cell_type": "code",
   "execution_count": 19,
   "id": "90d5fff0-d219-4c1e-9816-d227770f2b36",
   "metadata": {},
   "outputs": [],
   "source": [
    "train_df = balance_classes(train_df, image_dir)"
   ]
  },
  {
   "cell_type": "markdown",
   "id": "fc9fe05d-bfb0-4c3a-973b-0c5208116f42",
   "metadata": {},
   "source": [
    "## 4. Define Functions"
   ]
  },
  {
   "cell_type": "code",
   "execution_count": 25,
   "id": "0d0db361-faac-46f2-a274-9cc58d0d9ea3",
   "metadata": {},
   "outputs": [],
   "source": [
    "# epoch 학습을 위한 함수 "
   ]
  },
  {
   "cell_type": "code",
   "execution_count": null,
   "id": "996415d8-927e-4e24-aaa3-a77d5cda16df",
   "metadata": {},
   "outputs": [],
   "source": []
  },
  {
   "cell_type": "code",
   "execution_count": null,
   "id": "58b24f05-afa9-4d59-9981-02b5ef086011",
   "metadata": {},
   "outputs": [],
   "source": []
  },
  {
   "cell_type": "code",
   "execution_count": null,
   "id": "fdc3404e-320f-4f40-837d-d43a84c990c7",
   "metadata": {},
   "outputs": [],
   "source": []
  },
  {
   "cell_type": "markdown",
   "id": "033dbcd0-af9c-4d72-979e-735b8a311f96",
   "metadata": {},
   "source": [
    "## 5. Hyper Parameters"
   ]
  },
  {
   "cell_type": "code",
   "execution_count": 36,
   "id": "f5a6014a-5a16-4ace-819c-0fbdc1b5441e",
   "metadata": {},
   "outputs": [],
   "source": [
    "class DocumentDataset(Dataset):\n",
    "    def __init__(self, df, image_dir, transform=None, mixup_prob=0.5):\n",
    "        self.df = df[['ID', 'class_name']].values\n",
    "        self.image_dir = image_dir\n",
    "        self.transform = transform\n",
    "        self.mixup_prob = mixup_prob\n",
    "\n",
    "    def __len__(self):\n",
    "        return len(self.df)\n",
    "\n",
    "    def __getitem__(self, idx):\n",
    "        img_id, target = self.df[idx]\n",
    "        img_path = os.path.join(self.image_dir, img_id)\n",
    "\n",
    "        if not os.path.exists(img_path):\n",
    "            raise FileNotFoundError(f\"Image {img_id} not found in {self.image_dir}.\")\n",
    "\n",
    "        image = np.array(Image.open(img_path))\n",
    "        \n",
    "        if self.transform:\n",
    "            transformed = self.transform(image=image)\n",
    "            image = transformed['image']\n",
    "            if isinstance(image, torch.Tensor):\n",
    "                image = image.permute(1, 2, 0).numpy()\n",
    "\n",
    "        #Mixup 과정\n",
    "        if np.random.rand() < self.mixup_prob:\n",
    "            idx2 = np.random.randint(0, len(self.df))\n",
    "            img_id2, _ = self.df[idx2]\n",
    "            img_path2 = os.path.join(self.image_dir, img_id2)\n",
    "\n",
    "            if os.path.exists(img_path2):\n",
    "                image2 = np.array(Image.open(img_path2))\n",
    "\n",
    "                # Resize the second image to match the first image's shape\n",
    "                if image.shape != image2.shape:\n",
    "                    image2 = cv2.resize(image2, (image.shape[1], image.shape[0]))\n",
    "\n",
    "                # Perform mixup with adjusted sizes\n",
    "                image = cv2.addWeighted(image, 0.5, image2, 0.5, 0)\n",
    "\n",
    "        # Convert image to torch.Tensor if it’s not already\n",
    "        if isinstance(image, np.ndarray):\n",
    "            image = torch.tensor(image, dtype=torch.float32).permute(2, 0, 1)  # Convert to C x H x W format\n",
    "\n",
    "        #target = torch.tensor(self.df[idx, 1])\n",
    "        return image, target"
   ]
  },
  {
   "cell_type": "markdown",
   "id": "71fcc6d7-d56e-47f7-b704-145b0c99ea15",
   "metadata": {},
   "source": [
    "## 6. Load Data"
   ]
  },
  {
   "cell_type": "raw",
   "id": "3f328d66-6d6e-4262-a6b3-0a040994dd02",
   "metadata": {},
   "source": [
    "class DocumentDataset(Dataset):\n",
    "    def __init__(self, df, image_dir, transform=None, mixup_prob=0.5):\n",
    "        self.df = df[['ID', 'class_name']].values  # Only include necessary columns\n",
    "        self.image_dir = image_dir\n",
    "        self.transform = transform\n",
    "        self.mixup_prob = mixup_prob\n",
    "\n",
    "    def __len__(self):\n",
    "        return len(self.df)\n",
    "\n",
    "    def __getitem__(self, idx):\n",
    "        img_id, target = self.df[idx]  # Ensure we only retrieve ID and class_name\n",
    "        img_path = os.path.join(self.image_dir, img_id)\n",
    "        image = np.array(Image.open(img_path))\n",
    "\n",
    "        if self.transform:\n",
    "            image = self.transform(image=image)['image']\n",
    "        if random.random() < self.mixup_prob:\n",
    "            idx2 = random.randint(0, len(self.df) - 1)\n",
    "            img_id2, target2 = self.df[idx2]\n",
    "            img_path2 = os.path.join(self.image_dir, img_id2)\n",
    "            image2 = np.array(Image.open(img_path2))\n",
    "            image = mixup(image, image2)\n",
    "            \n",
    "        return image, target"
   ]
  },
  {
   "cell_type": "code",
   "execution_count": null,
   "id": "2b67f214-8504-46b8-ad88-31f091bce733",
   "metadata": {},
   "outputs": [],
   "source": []
  },
  {
   "cell_type": "markdown",
   "id": "d11403d7-11c2-4fc7-a836-dcdf066b2305",
   "metadata": {},
   "source": [
    "## 7. Modeling"
   ]
  },
  {
   "cell_type": "code",
   "execution_count": 30,
   "id": "ad0a69da-50d5-4005-af01-2722cba0bef3",
   "metadata": {},
   "outputs": [],
   "source": [
    "# Model selection function\n",
    "def get_model(model_type=\"efficientnet_b0\", num_classes=10):\n",
    "    if model_type in [\"resnet18\", \"resnet50\", \"efficientnet_b0\", \"vit_base_patch16_224\"]:\n",
    "        model = create_model(model_type, pretrained=True, num_classes=num_classes)\n",
    "    else:\n",
    "        raise ValueError(\"Unsupported model type. Choose from 'resnet18', 'resnet50', 'efficientnet_b0', or 'vit_base_patch16_224'.\")\n",
    "    return model"
   ]
  },
  {
   "cell_type": "code",
   "execution_count": null,
   "id": "44d3d8c2-6e02-4657-a960-2f854d99a846",
   "metadata": {},
   "outputs": [],
   "source": []
  },
  {
   "cell_type": "code",
   "execution_count": null,
   "id": "fada2f91-fde3-41ae-a611-9b6429698895",
   "metadata": {},
   "outputs": [],
   "source": []
  },
  {
   "cell_type": "code",
   "execution_count": null,
   "id": "a5d93391-13f6-4e99-911f-dd0d3a006b83",
   "metadata": {},
   "outputs": [],
   "source": []
  },
  {
   "cell_type": "code",
   "execution_count": null,
   "id": "1c15abed-3271-4f42-9284-ce6e3d5c2189",
   "metadata": {},
   "outputs": [],
   "source": []
  },
  {
   "cell_type": "markdown",
   "id": "e68d754c-767f-4603-9f8e-dd636cf7f204",
   "metadata": {},
   "source": [
    "## 8. Train Model"
   ]
  },
  {
   "cell_type": "code",
   "execution_count": 66,
   "id": "35d4a378-6a9c-4d50-bec6-bb11b9847c8c",
   "metadata": {},
   "outputs": [],
   "source": [
    "def train_epoch(model, loader, optimizer, criterion, device):\n",
    "    model.train()\n",
    "    total_loss = 0\n",
    "    label_set = set()\n",
    "    \n",
    "    # Collect all unique labels from the loader to create the label_to_index dictionary\n",
    "    for _, labels_tuple in loader:\n",
    "        label_set.update(labels_tuple)\n",
    "    \n",
    "    label_to_index = create_label_to_index(label_set)\n",
    "    \n",
    "    for images, labels_tuple in loader:\n",
    "        images = images.to(device)\n",
    "        # Convert labels to their respective indices and create a tensor\n",
    "        labels = torch.tensor([label_to_index[label] for label in labels_tuple], dtype=torch.long).to(device)\n",
    "        \n",
    "        optimizer.zero_grad()\n",
    "        outputs = model(images)\n",
    "        loss = criterion(outputs, labels)\n",
    "        loss.backward()\n",
    "        optimizer.step()\n",
    "        total_loss += loss.item() * images.size(0)\n",
    "    \n",
    "    return total_loss / len(loader.dataset)"
   ]
  },
  {
   "cell_type": "code",
   "execution_count": null,
   "id": "ce80b773-accd-47a8-8402-697cab1b4d71",
   "metadata": {},
   "outputs": [],
   "source": []
  },
  {
   "cell_type": "code",
   "execution_count": null,
   "id": "e11863b5-4988-48ff-8e98-f1014a0bacb4",
   "metadata": {},
   "outputs": [],
   "source": []
  },
  {
   "cell_type": "markdown",
   "id": "68862b55-784b-4257-a1c6-279c6df1a758",
   "metadata": {},
   "source": [
    "## 9. Result"
   ]
  },
  {
   "cell_type": "code",
   "execution_count": 74,
   "id": "5e70f3ab-1dc2-44f5-94ab-132f5b5df7fb",
   "metadata": {},
   "outputs": [],
   "source": [
    "def evaluate(model, loader, device):\n",
    "    model.eval()\n",
    "    preds = []\n",
    "    true_labels = []\n",
    "    \n",
    "    with torch.no_grad():\n",
    "        for images, labels_tuple in loader:\n",
    "            images = images.to(device)\n",
    "            # 문자열 레이블을 정수 인덱스로 변환\n",
    "            labels = torch.tensor([label_to_index[label] for label in labels_tuple], dtype=torch.long).to(device)\n",
    "            \n",
    "            outputs = model(images)\n",
    "            preds.extend(torch.argmax(outputs, axis=1).cpu().numpy())\n",
    "            true_labels.extend(labels.cpu().numpy())\n",
    "    \n",
    "    return f1_score(true_labels, preds, average='macro')\n"
   ]
  },
  {
   "cell_type": "code",
   "execution_count": null,
   "id": "5f183c31-b40e-4297-b51a-6a07af02720a",
   "metadata": {},
   "outputs": [],
   "source": []
  },
  {
   "cell_type": "raw",
   "id": "87fabe26-ea88-41db-a380-1ec9b040b46c",
   "metadata": {},
   "source": [
    "# DataLoader 준비 함수\n",
    "def prepare_dataloader(df, img_dir, batch_size=32, augment=False, target_count=100):\n",
    "    train_df = balance_classes(df, target_count)  # 데이터 불균형 해소\n",
    "    show_data_balance(train_df)\n",
    "    transform = augmentation_pipeline if augment else basic_transform #증강 여부 설정\n",
    "    dataset = ImageDataset(train_df, img_dir, transform=transform)\n",
    "    return DataLoader(dataset, batch_size=batch_size, shuffle=augment)\n",
    "\n",
    "# DataLoader 생성 (훈련 시에는 실시간 증강 적용)\n",
    "train_loader = prepare_dataloader(train_df, img_dir, batch_size=32, augment=True, target_count=100)"
   ]
  },
  {
   "cell_type": "code",
   "execution_count": 62,
   "id": "9405458f-8b18-4fb7-b004-6d8f5c90c81e",
   "metadata": {},
   "outputs": [
    {
     "name": "stdout",
     "output_type": "stream",
     "text": [
      "Batch structure: tensor([[[[ 66.,  69.,  70.,  ...,  85.,  88.,  86.],\n",
      "          [ 68.,  69.,  70.,  ...,  86.,  88.,  86.],\n",
      "          [ 69.,  72.,  72.,  ...,  88.,  88.,  87.],\n",
      "          ...,\n",
      "          [108., 108., 110.,  ..., 101., 100., 102.],\n",
      "          [106., 110., 116.,  ..., 100., 102., 103.],\n",
      "          [106., 108., 112.,  ..., 100., 101., 102.]],\n",
      "\n",
      "         [[ 72.,  74.,  74.,  ...,  87.,  90.,  89.],\n",
      "          [ 73.,  74.,  74.,  ...,  88.,  90.,  89.],\n",
      "          [ 74.,  77.,  76.,  ...,  90.,  90.,  90.],\n",
      "          ...,\n",
      "          [108., 108., 110.,  ..., 108., 106., 108.],\n",
      "          [108., 111., 117.,  ..., 106., 108., 109.],\n",
      "          [109., 110., 114.,  ..., 106., 107., 108.]],\n",
      "\n",
      "         [[ 76.,  78.,  75.,  ...,  86.,  90.,  90.],\n",
      "          [ 78.,  78.,  76.,  ...,  88.,  90.,  90.],\n",
      "          [ 78.,  82.,  78.,  ...,  90.,  91.,  92.],\n",
      "          ...,\n",
      "          [110., 110., 112.,  ..., 110., 110., 112.],\n",
      "          [109., 112., 119.,  ..., 108., 112., 113.],\n",
      "          [110., 111., 116.,  ..., 110., 112., 112.]]],\n",
      "\n",
      "\n",
      "        [[[166., 166., 166.,  ..., 148., 149., 149.],\n",
      "          [165., 166., 166.,  ..., 148., 150., 149.],\n",
      "          [164., 165., 166.,  ..., 148., 150., 149.],\n",
      "          ...,\n",
      "          [160., 160., 158.,  ..., 164., 164., 164.],\n",
      "          [160., 162., 160.,  ..., 166., 166., 165.],\n",
      "          [160., 161., 160.,  ..., 166., 167., 167.]],\n",
      "\n",
      "         [[155., 156., 158.,  ..., 150., 150., 150.],\n",
      "          [156., 157., 158.,  ..., 150., 150., 150.],\n",
      "          [156., 156., 158.,  ..., 150., 151., 150.],\n",
      "          ...,\n",
      "          [156., 157., 155.,  ..., 164., 164., 164.],\n",
      "          [157., 158., 157.,  ..., 164., 164., 164.],\n",
      "          [156., 158., 157.,  ..., 166., 166., 166.]],\n",
      "\n",
      "         [[150., 152., 153.,  ..., 152., 149., 147.],\n",
      "          [151., 152., 153.,  ..., 152., 150., 148.],\n",
      "          [150., 152., 154.,  ..., 152., 150., 148.],\n",
      "          ...,\n",
      "          [150., 152., 150.,  ..., 160., 159., 159.],\n",
      "          [150., 152., 151.,  ..., 160., 159., 158.],\n",
      "          [150., 151., 152.,  ..., 160., 160., 160.]]],\n",
      "\n",
      "\n",
      "        [[[195., 196., 196.,  ..., 189., 189., 188.],\n",
      "          [195., 196., 197.,  ..., 190., 191., 188.],\n",
      "          [195., 197., 197.,  ..., 189., 190., 188.],\n",
      "          ...,\n",
      "          [187., 189., 189.,  ..., 159., 157., 155.],\n",
      "          [187., 190., 189.,  ..., 159., 156., 154.],\n",
      "          [186., 189., 188.,  ..., 156., 156., 154.]],\n",
      "\n",
      "         [[199., 200., 200.,  ..., 193., 193., 192.],\n",
      "          [199., 201., 201.,  ..., 194., 195., 192.],\n",
      "          [199., 202., 203.,  ..., 193., 194., 192.],\n",
      "          ...,\n",
      "          [193., 195., 195.,  ..., 164., 164., 164.],\n",
      "          [193., 196., 195.,  ..., 164., 163., 163.],\n",
      "          [192., 195., 194.,  ..., 163., 163., 163.]],\n",
      "\n",
      "         [[200., 201., 201.,  ..., 194., 194., 193.],\n",
      "          [200., 202., 202.,  ..., 195., 195., 193.],\n",
      "          [200., 202., 203.,  ..., 194., 195., 193.],\n",
      "          ...,\n",
      "          [193., 195., 195.,  ..., 170., 170., 169.],\n",
      "          [193., 196., 195.,  ..., 170., 169., 168.],\n",
      "          [192., 195., 194.,  ..., 169., 169., 168.]]],\n",
      "\n",
      "\n",
      "        ...,\n",
      "\n",
      "\n",
      "        [[[186., 186., 186.,  ..., 174., 176., 176.],\n",
      "          [186., 186., 185.,  ..., 176., 178., 178.],\n",
      "          [186., 185., 184.,  ..., 178., 180., 180.],\n",
      "          ...,\n",
      "          [156., 158., 157.,  ..., 176., 178., 178.],\n",
      "          [156., 158., 156.,  ..., 172., 178., 178.],\n",
      "          [156., 158., 157.,  ..., 171., 176., 174.]],\n",
      "\n",
      "         [[192., 191., 190.,  ..., 177., 179., 180.],\n",
      "          [192., 191., 190.,  ..., 178., 181., 182.],\n",
      "          [190., 190., 190.,  ..., 181., 183., 184.],\n",
      "          ...,\n",
      "          [160., 162., 160.,  ..., 182., 184., 184.],\n",
      "          [159., 162., 160.,  ..., 178., 184., 184.],\n",
      "          [159., 161., 160.,  ..., 177., 182., 180.]],\n",
      "\n",
      "         [[196., 195., 194.,  ..., 186., 188., 190.],\n",
      "          [196., 195., 194.,  ..., 188., 190., 191.],\n",
      "          [194., 194., 194.,  ..., 190., 192., 193.],\n",
      "          ...,\n",
      "          [164., 167., 166.,  ..., 190., 192., 192.],\n",
      "          [164., 166., 166.,  ..., 186., 193., 192.],\n",
      "          [164., 166., 166.,  ..., 185., 191., 188.]]],\n",
      "\n",
      "\n",
      "        [[[126., 120.,  92.,  ..., 194., 188., 174.],\n",
      "          [124.,  90.,  78.,  ..., 154., 156., 167.],\n",
      "          [118., 106., 100.,  ..., 148., 148., 134.],\n",
      "          ...,\n",
      "          [ 66.,  58.,  64.,  ..., 138., 102., 118.],\n",
      "          [ 76.,  78.,  76.,  ..., 130., 106., 136.],\n",
      "          [ 73.,  76.,  74.,  ..., 131., 135., 103.]],\n",
      "\n",
      "         [[136., 127., 143.,  ..., 216., 219., 201.],\n",
      "          [135., 154., 150.,  ..., 180., 186., 194.],\n",
      "          [142., 128., 134.,  ..., 172., 170., 164.],\n",
      "          ...,\n",
      "          [ 82.,  73.,  76.,  ..., 146., 110., 124.],\n",
      "          [ 94.,  94.,  91.,  ..., 138., 114., 144.],\n",
      "          [ 87.,  91.,  89.,  ..., 136., 142., 111.]],\n",
      "\n",
      "         [[150., 136., 161.,  ..., 214., 212., 194.],\n",
      "          [146., 176., 170.,  ..., 174., 179., 188.],\n",
      "          [158., 143., 148.,  ..., 172., 170., 162.],\n",
      "          ...,\n",
      "          [ 95.,  86.,  88.,  ..., 156., 118., 132.],\n",
      "          [104., 104., 102.,  ..., 145., 120., 150.],\n",
      "          [ 99., 103., 100.,  ..., 146., 152., 120.]]],\n",
      "\n",
      "\n",
      "        [[[166., 158., 187.,  ..., 200., 196., 192.],\n",
      "          [170., 164., 184.,  ..., 210., 208., 208.],\n",
      "          [172., 160., 186.,  ..., 210., 212., 212.],\n",
      "          ...,\n",
      "          [160., 154., 120.,  ..., 197., 202., 202.],\n",
      "          [160., 164., 135.,  ..., 198., 205., 203.],\n",
      "          [157., 164., 146.,  ..., 198., 206., 204.]],\n",
      "\n",
      "         [[174., 164., 194.,  ..., 205., 199., 196.],\n",
      "          [180., 172., 193.,  ..., 214., 213., 212.],\n",
      "          [180., 168., 194.,  ..., 214., 216., 216.],\n",
      "          ...,\n",
      "          [166., 160., 128.,  ..., 201., 206., 206.],\n",
      "          [168., 172., 142.,  ..., 202., 208., 206.],\n",
      "          [164., 170., 153.,  ..., 202., 210., 208.]],\n",
      "\n",
      "         [[178., 170., 198.,  ..., 207., 202., 198.],\n",
      "          [182., 178., 195.,  ..., 216., 215., 214.],\n",
      "          [184., 173., 196.,  ..., 216., 218., 218.],\n",
      "          ...,\n",
      "          [175., 170., 136.,  ..., 206., 212., 212.],\n",
      "          [176., 180., 152.,  ..., 206., 214., 212.],\n",
      "          [174., 180., 162.,  ..., 208., 216., 214.]]]]) ('diagnosis', 'diagnosis', 'medical_outpatient_certificate', 'application_for_payment_of_pregnancy_medical_expenses', 'medical_outpatient_certificate', 'vehicle_registration_plate', 'confirmation_of_admission_and_discharge', 'vehicle_registration_certificate', 'passport', 'prescription', 'vehicle_registration_plate', 'vehicle_registration_plate', 'car_dashboard', 'diagnosis', 'pharmaceutical_receipt', 'driver_lisence', 'vehicle_registration_plate', 'diagnosis', 'car_dashboard', 'diagnosis', 'account_number', 'resume', 'account_number', 'application_for_payment_of_pregnancy_medical_expenses', 'vehicle_registration_plate', 'diagnosis', 'diagnosis', 'statement_of_opinion', 'account_number', 'prescription', 'passport', 'application_for_payment_of_pregnancy_medical_expenses')\n"
     ]
    }
   ],
   "source": [
    "# DataLoaders 준비 \n",
    "train_transform = get_albumentations_pipeline()\n",
    "train_dataset = DocumentDataset(train_df, image_dir, transform=train_transform)\n",
    "val_dataset = DocumentDataset(val_df, image_dir, transform=train_transform)\n",
    "train_loader = DataLoader(train_dataset, batch_size=32, shuffle=True)\n",
    "val_loader = DataLoader(val_dataset, batch_size=32, shuffle=False)\n",
    "\n",
    "# Training loop\n",
    "device = \"cuda\" if torch.cuda.is_available() else \"cpu\"\n",
    "model = get_model(model_type=\"resnet50\", num_classes=len(train_df[\"class_name\"].unique())).to(device)\n",
    "criterion = nn.CrossEntropyLoss()\n",
    "optimizer = AdamW(model.parameters(), lr=0.001)\n",
    "\n",
    "images, labels = next(iter(train_loader))\n",
    "print(\"Batch structure:\", images, labels)"
   ]
  },
  {
   "cell_type": "code",
   "execution_count": 76,
   "id": "8ebf4999-522c-478e-9228-deb2a14b77bc",
   "metadata": {},
   "outputs": [
    {
     "name": "stderr",
     "output_type": "stream",
     "text": [
      "Epochs:   0%|                                             | 0/4 [03:02<?, ?it/s]\n"
     ]
    },
    {
     "ename": "NameError",
     "evalue": "name 'label_to_index' is not defined",
     "output_type": "error",
     "traceback": [
      "\u001b[0;31m---------------------------------------------------------------------------\u001b[0m",
      "\u001b[0;31mNameError\u001b[0m                                 Traceback (most recent call last)",
      "Cell \u001b[0;32mIn[76], line 3\u001b[0m\n\u001b[1;32m      1\u001b[0m \u001b[38;5;28;01mfor\u001b[39;00m epoch \u001b[38;5;129;01min\u001b[39;00m tqdm(\u001b[38;5;28mrange\u001b[39m(\u001b[38;5;241m4\u001b[39m), desc\u001b[38;5;241m=\u001b[39m\u001b[38;5;124m\"\u001b[39m\u001b[38;5;124mEpochs\u001b[39m\u001b[38;5;124m\"\u001b[39m):\n\u001b[1;32m      2\u001b[0m     train_loss \u001b[38;5;241m=\u001b[39m train_epoch(model, train_loader, optimizer, criterion, device)\n\u001b[0;32m----> 3\u001b[0m     val_f1 \u001b[38;5;241m=\u001b[39m evaluate(model, val_loader, device)\n\u001b[1;32m      4\u001b[0m     \u001b[38;5;28mprint\u001b[39m(\u001b[38;5;124mf\u001b[39m\u001b[38;5;124m\"\u001b[39m\u001b[38;5;124mEpoch \u001b[39m\u001b[38;5;132;01m{\u001b[39;00mepoch\u001b[38;5;241m+\u001b[39m\u001b[38;5;241m1\u001b[39m\u001b[38;5;132;01m}\u001b[39;00m\u001b[38;5;124m, Train Loss: \u001b[39m\u001b[38;5;132;01m{\u001b[39;00mtrain_loss\u001b[38;5;132;01m:\u001b[39;00m\u001b[38;5;124m.4f\u001b[39m\u001b[38;5;132;01m}\u001b[39;00m\u001b[38;5;124m, Val Macro F1: \u001b[39m\u001b[38;5;132;01m{\u001b[39;00mval_f1\u001b[38;5;132;01m:\u001b[39;00m\u001b[38;5;124m.4f\u001b[39m\u001b[38;5;132;01m}\u001b[39;00m\u001b[38;5;124m\"\u001b[39m)\n",
      "Cell \u001b[0;32mIn[74], line 10\u001b[0m, in \u001b[0;36mevaluate\u001b[0;34m(model, loader, device)\u001b[0m\n\u001b[1;32m      8\u001b[0m images \u001b[38;5;241m=\u001b[39m images\u001b[38;5;241m.\u001b[39mto(device)\n\u001b[1;32m      9\u001b[0m \u001b[38;5;66;03m# 문자열 레이블을 정수 인덱스로 변환\u001b[39;00m\n\u001b[0;32m---> 10\u001b[0m labels \u001b[38;5;241m=\u001b[39m torch\u001b[38;5;241m.\u001b[39mtensor([label_to_index[label] \u001b[38;5;28;01mfor\u001b[39;00m label \u001b[38;5;129;01min\u001b[39;00m labels_tuple], dtype\u001b[38;5;241m=\u001b[39mtorch\u001b[38;5;241m.\u001b[39mlong)\u001b[38;5;241m.\u001b[39mto(device)\n\u001b[1;32m     12\u001b[0m outputs \u001b[38;5;241m=\u001b[39m model(images)\n\u001b[1;32m     13\u001b[0m preds\u001b[38;5;241m.\u001b[39mextend(torch\u001b[38;5;241m.\u001b[39margmax(outputs, axis\u001b[38;5;241m=\u001b[39m\u001b[38;5;241m1\u001b[39m)\u001b[38;5;241m.\u001b[39mcpu()\u001b[38;5;241m.\u001b[39mnumpy())\n",
      "\u001b[0;31mNameError\u001b[0m: name 'label_to_index' is not defined"
     ]
    }
   ],
   "source": [
    "for epoch in tqdm(range(4), desc=\"Epochs\"):\n",
    "    train_loss = train_epoch(model, train_loader, optimizer, criterion, device)\n",
    "    val_f1 = evaluate(model, val_loader, device)\n",
    "    print(f\"Epoch {epoch+1}, Train Loss: {train_loss:.4f}, Val Macro F1: {val_f1:.4f}\")"
   ]
  },
  {
   "cell_type": "markdown",
   "id": "759af476-fa2f-4a6d-8f39-79ae6e1ece19",
   "metadata": {},
   "source": [
    "## 9. Save File"
   ]
  },
  {
   "cell_type": "code",
   "execution_count": null,
   "id": "5b370745-54bc-4af5-8a48-27f94e33a318",
   "metadata": {},
   "outputs": [],
   "source": []
  },
  {
   "cell_type": "code",
   "execution_count": null,
   "id": "90e6cec7-996c-4766-bda6-b24b52909966",
   "metadata": {},
   "outputs": [],
   "source": []
  },
  {
   "cell_type": "code",
   "execution_count": null,
   "id": "191e3da0-329e-446b-a59a-797d392c9ace",
   "metadata": {},
   "outputs": [],
   "source": []
  },
  {
   "cell_type": "code",
   "execution_count": null,
   "id": "3a051c53-179c-462e-8dd4-e60a7cc593e4",
   "metadata": {},
   "outputs": [],
   "source": []
  },
  {
   "cell_type": "code",
   "execution_count": null,
   "id": "64638510-2979-4160-abfc-787434ba7cc3",
   "metadata": {},
   "outputs": [],
   "source": []
  }
 ],
 "metadata": {
  "kernelspec": {
   "display_name": "Python 3 (ipykernel)",
   "language": "python",
   "name": "python3"
  },
  "language_info": {
   "codemirror_mode": {
    "name": "ipython",
    "version": 3
   },
   "file_extension": ".py",
   "mimetype": "text/x-python",
   "name": "python",
   "nbconvert_exporter": "python",
   "pygments_lexer": "ipython3",
   "version": "3.12.7"
  }
 },
 "nbformat": 4,
 "nbformat_minor": 5
}
